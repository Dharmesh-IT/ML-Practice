{
 "cells": [
  {
   "cell_type": "markdown",
   "metadata": {},
   "source": [
    "# <center><font size = 3>\n",
    "<span style=\"height:40px\"> <p style=\"background-color:#9c0505;font-family:arial;color:#fff;font-size:150%;text-align:center;border-radius:10px 10px; height:40px;\">INTRODUCTION</p>   \n",
    "</span></font></center>\n",
    "\n",
    "# We will use  four different machine learning model  \n",
    "<ul>\n",
    "    <li>\n",
    "    XGB\n",
    "    </li>\n",
    "    <li>\n",
    "    Catboost\n",
    "    </li>\n",
    "    <li>\n",
    "    Light GBM\n",
    "    </li>\n",
    "    <li>Voting Classifier</li>\n",
    "</ul>\n",
    "\n",
    "Later we will add more machine learning models"
   ]
  },
  {
   "cell_type": "markdown",
   "metadata": {},
   "source": [
    "# <center><font size = 3>\n",
    "<span > <p style=\"background-color:#9c0505;font-family:arial;color:#fff;font-size:200%;text-align:center;border-radius:10px 10px;\">Import Libs 📂</p>   \n",
    "</span></font></center>"
   ]
  },
  {
   "cell_type": "code",
   "execution_count": 1,
   "metadata": {},
   "outputs": [],
   "source": [
    "import numpy as np\n",
    "import pandas as pd\n",
    "from sklearn.model_selection import StratifiedKFold,train_test_split\n",
    "from sklearn.preprocessing import OneHotEncoder,OrdinalEncoder,LabelEncoder,StandardScaler\n",
    "from sklearn.metrics import roc_auc_score\n",
    "from sklearn.linear_model import LassoCV\n",
    "\n"
   ]
  },
  {
   "cell_type": "markdown",
   "metadata": {},
   "source": [
    "# <center><font size = 3>\n",
    "<span > <p style=\"background-color:#9c0505;font-family:arial;color:#fff;font-size:200%;text-align:center;border-radius:10px 10px;\">Let's perform EDA 💹📈📉📊</p>   \n",
    "</span></font></center>"
   ]
  },
  {
   "cell_type": "code",
   "execution_count": 3,
   "metadata": {},
   "outputs": [],
   "source": [
    "train_ds=pd.read_csv(\"s3e4/train.csv\")\n",
    "# test_ds=pd.read_csv(\"kaggle\\Playground Seacon/s3e4/train.csv\")\n",
    "# submmision_ds=pd.read_csv(\"kaggle\\Playground Seacon/s3e4/train.csv\")"
   ]
  },
  {
   "cell_type": "markdown",
   "metadata": {},
   "source": []
  }
 ],
 "metadata": {
  "kernelspec": {
   "display_name": "Python 3 (ipykernel)",
   "language": "python",
   "name": "python3"
  },
  "language_info": {
   "codemirror_mode": {
    "name": "ipython",
    "version": 3
   },
   "file_extension": ".py",
   "mimetype": "text/x-python",
   "name": "python",
   "nbconvert_exporter": "python",
   "pygments_lexer": "ipython3",
   "version": "3.9.13"
  },
  "vscode": {
   "interpreter": {
    "hash": "ad2bdc8ecc057115af97d19610ffacc2b4e99fae6737bb82f5d7fb13d2f2c186"
   }
  }
 },
 "nbformat": 4,
 "nbformat_minor": 4
}
