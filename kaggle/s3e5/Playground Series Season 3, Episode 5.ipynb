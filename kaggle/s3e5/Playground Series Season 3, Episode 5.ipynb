{
 "cells": [
  {
   "attachments": {},
   "cell_type": "markdown",
   "metadata": {},
   "source": [
    "# <center><font size = 3>\n",
    "\n",
    "<span style=\"height:40px\"> <p style=\"background-color:#9c0505;font-family:arial;color:#fff;font-size:150%;text-align:center;border-radius:10px 10px; height:40px;\">INTRODUCTION</p>  \n",
    "</span></font></center>\n",
    "\n",
    "# We will use four different machine learning model\n",
    "\n",
    "<ul>\n",
    "    <li>\n",
    "    Linear Regression\n",
    "    </li>\n",
    "    <li>\n",
    "    Decision tree Regressor\n",
    "    </li>\n",
    "    <li>\n",
    "    Random Forest Regressor\n",
    "    </li>\n",
    "    <li>Ridge Regression</li>\n",
    "    <li>Lasso Regression</li>\n",
    "</ul>\n",
    "\n",
    "Later we will add more machine learning models\n"
   ]
  },
  {
   "attachments": {},
   "cell_type": "markdown",
   "metadata": {},
   "source": [
    "# <center><font size = 3>\n",
    "\n",
    "<span > <p style=\"background-color:#9c0505;font-family:arial;color:#fff;font-size:200%;text-align:center;border-radius:10px 10px;\">Import Libs 📂</p>  \n",
    "</span></font></center>\n"
   ]
  },
  {
   "cell_type": "code",
   "execution_count": 1,
   "metadata": {},
   "outputs": [
    {
     "ename": "ModuleNotFoundError",
     "evalue": "No module named 'sklearn'",
     "output_type": "error",
     "traceback": [
      "\u001b[1;31m---------------------------------------------------------------------------\u001b[0m",
      "\u001b[1;31mModuleNotFoundError\u001b[0m                       Traceback (most recent call last)",
      "Cell \u001b[1;32mIn[1], line 3\u001b[0m\n\u001b[0;32m      1\u001b[0m \u001b[39mimport\u001b[39;00m \u001b[39mnumpy\u001b[39;00m \u001b[39mas\u001b[39;00m \u001b[39mnp\u001b[39;00m\n\u001b[0;32m      2\u001b[0m \u001b[39mimport\u001b[39;00m \u001b[39mpandas\u001b[39;00m \u001b[39mas\u001b[39;00m \u001b[39mpd\u001b[39;00m\n\u001b[1;32m----> 3\u001b[0m \u001b[39mfrom\u001b[39;00m \u001b[39msklearn\u001b[39;00m\u001b[39m.\u001b[39;00m\u001b[39mmodel_selection\u001b[39;00m \u001b[39mimport\u001b[39;00m StratifiedKFold,train_test_split,RandomizedSearchCV\n\u001b[0;32m      4\u001b[0m \u001b[39mfrom\u001b[39;00m \u001b[39msklearn\u001b[39;00m\u001b[39m.\u001b[39;00m\u001b[39mpreprocessing\u001b[39;00m \u001b[39mimport\u001b[39;00m OneHotEncoder,OrdinalEncoder,LabelEncoder,StandardScaler\n\u001b[0;32m      5\u001b[0m \u001b[39mfrom\u001b[39;00m \u001b[39msklearn\u001b[39;00m\u001b[39m.\u001b[39;00m\u001b[39mmetrics\u001b[39;00m \u001b[39mimport\u001b[39;00m roc_auc_score\n",
      "\u001b[1;31mModuleNotFoundError\u001b[0m: No module named 'sklearn'"
     ]
    }
   ],
   "source": [
    "import numpy as np\n",
    "import pandas as pd\n",
    "from sklearn.model_selection import StratifiedKFold,train_test_split,RandomizedSearchCV\n",
    "from sklearn.preprocessing import OneHotEncoder,OrdinalEncoder,LabelEncoder,StandardScaler\n",
    "from sklearn.metrics import roc_auc_score\n",
    "from sklearn.linear_model import LassoCV\n",
    "import plotly.express as px\n",
    "import matplotlib.pyplot as plt\n",
    "import seaborn as sns\n",
    "from sklearn.ensemble import RandomForestClassifier, VotingClassifier\n",
    "\n",
    "from sklearn.svm import SVC\n",
    "\n"
   ]
  },
  {
   "attachments": {},
   "cell_type": "markdown",
   "metadata": {},
   "source": [
    "# <center><font size = 3>\n",
    "\n",
    "<span > <p style=\"background-color:#9c0505;font-family:arial;color:#fff;font-size:200%;text-align:center;border-radius:10px 10px;\">Let's load data</p>  \n",
    "</span></font></center>\n"
   ]
  },
  {
   "cell_type": "code",
   "execution_count": 3,
   "metadata": {},
   "outputs": [],
   "source": [
    "train_df=pd.read_csv('playground-series-s3e5/train.csv')\n",
    "test_df=pd.read_csv('playground-series-s3e5/test.csv')\n",
    "submission_df=pd.read_csv('playground-series-s3e5/sample_submission.csv')"
   ]
  },
  {
   "cell_type": "code",
   "execution_count": null,
   "metadata": {},
   "outputs": [],
   "source": []
  }
 ],
 "metadata": {
  "kernelspec": {
   "display_name": "kaggle",
   "language": "python",
   "name": "python3"
  },
  "language_info": {
   "codemirror_mode": {
    "name": "ipython",
    "version": 3
   },
   "file_extension": ".py",
   "mimetype": "text/x-python",
   "name": "python",
   "nbconvert_exporter": "python",
   "pygments_lexer": "ipython3",
   "version": "3.9.16 (main, Jan 11 2023, 16:16:36) [MSC v.1916 64 bit (AMD64)]"
  },
  "orig_nbformat": 4,
  "vscode": {
   "interpreter": {
    "hash": "0d4fb9d887b92d9960bab5d7136a5edeebc07107d9f83b6d721e51bd58d1a749"
   }
  }
 },
 "nbformat": 4,
 "nbformat_minor": 2
}
